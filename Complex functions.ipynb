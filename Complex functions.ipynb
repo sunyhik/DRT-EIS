{
 "cells": [
  {
   "cell_type": "code",
   "execution_count": 1,
   "id": "bb31fbd8",
   "metadata": {},
   "outputs": [],
   "source": [
    "import numpy as np\n",
    "import sympy as sp\n",
    "import matplotlib.pyplot as plt"
   ]
  },
  {
   "cell_type": "code",
   "execution_count": 2,
   "id": "de334acb",
   "metadata": {},
   "outputs": [
    {
     "name": "stdout",
     "output_type": "stream",
     "text": [
      "[2.9999782440154696, 2.193234783162253, 1.350323318916419, 0.866335377763863, 0.5954997930280099, 0.43439838544753673, 0.33205812478464436, 0.2632699528369671, 0.21483842935629796, 0.17942009460224811]\n",
      "[0.00027610573578768063, 1.207682384271968, 1.3673791332364764, 1.2358120973848232, 1.0749267076368498, 0.9360532674732365, 0.8234364640756368, 0.7326853156841073, 0.6588900754734662, 0.5980908143443432]\n"
     ]
    }
   ],
   "source": [
    "Rct = 2\n",
    "Qct = 0.004\n",
    "\n",
    "Rsei = 1\n",
    "Qsei = 0.006\n",
    "\n",
    "w = np.arange(0.01, 1000, 100)\n",
    "alpha = 0.95\n",
    "\n",
    "# Use this for your imaginary symbol\n",
    "#j = sp.Symbol('j')\n",
    "\n",
    "\n",
    "i=0\n",
    "imax = len(w)\n",
    "\n",
    "wx = []\n",
    "Re = []\n",
    "Imag = []\n",
    "\n",
    "\n",
    "\n",
    "for i in range (i, imax, 1): \n",
    "    w1=w[i]\n",
    "    Z1 = Rct / (1 + Rct*Qct*(complex(0, w1))**alpha)\n",
    "    Z2 = Rsei / (1 + Rsei*Qsei*(complex(0, w1))**alpha)\n",
    "\n",
    "\n",
    "    Z = Z1 + Z2\n",
    "    wx.append(w1)\n",
    "    Re.append(np.real(Z))\n",
    "    Imag.append(np.imag(Z)*-1)\n",
    "    \n",
    "print (Re)\n",
    "print (Imag)\n",
    "\n"
   ]
  },
  {
   "cell_type": "code",
   "execution_count": 3,
   "id": "d3718b54",
   "metadata": {},
   "outputs": [
    {
     "data": {
      "text/plain": [
       "[<matplotlib.lines.Line2D at 0x12cb4dcb6d0>]"
      ]
     },
     "execution_count": 3,
     "metadata": {},
     "output_type": "execute_result"
    },
    {
     "data": {
      "image/png": "[encoded data removed]",
      "text/plain": [
       "<Figure size 432x288 with 1 Axes>"
      ]
     },
     "metadata": {
      "needs_background": "light"
     },
     "output_type": "display_data"
    }
   ],
   "source": [
    "plt.plot(Re, Imag, 'bo')"
   ]
  },
  {
   "cell_type": "code",
   "execution_count": null,
   "id": "099889cb",
   "metadata": {},
   "outputs": [],
   "source": []
  }
 ],
 "metadata": {
  "kernelspec": {
   "display_name": "Python 3 (ipykernel)",
   "language": "python",
   "name": "python3"
  },
  "language_info": {
   "codemirror_mode": {
    "name": "ipython",
    "version": 3
   },
   "file_extension": ".py",
   "mimetype": "text/x-python",
   "name": "python",
   "nbconvert_exporter": "python",
   "pygments_lexer": "ipython3",
   "version": "3.9.7"
  }
 },
 "nbformat": 4,
 "nbformat_minor": 5
}
