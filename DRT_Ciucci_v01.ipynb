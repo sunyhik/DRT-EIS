{
 "cells": [
  {
   "cell_type": "markdown",
   "metadata": {},
   "source": [
    "# Gaussian Process Distribution of Relaxation Times. "
   ]
  },
  {
   "cell_type": "markdown",
   "metadata": {},
   "source": [
    "## In this tutorial we will show use the GP-DRT method to analyze actual experimental data\n",
    "\n",
    "The impedance data in the csv file named `EIS_experiment.csv`. The file has three columns. The first column is the frequency, the second one the real part of the impedance. The third column is the imaginary part of impedance. To use this tutorial for your own data, we recommend the frequencies go are sorted ascendingly."
   ]
  },
  {
   "cell_type": "code",
   "execution_count": 16,
   "metadata": {},
   "outputs": [],
   "source": [
    "import numpy as np\n",
    "import matplotlib as mpl\n",
    "mpl.rcParams.update(mpl.rcParamsDefault)\n",
    "import matplotlib.pyplot as plt\n",
    "\n",
    "from math import sin, cos, pi\n",
    "import GP_DRT\n",
    "from scipy.optimize import minimize\n",
    "import pandas as pd\n",
    "%matplotlib inline"
   ]
  },
  {
   "cell_type": "markdown",
   "metadata": {},
   "source": [
    "## 1) Read in the impedance data from the csv file\n",
    "### IMPORTANT: frequencies should be sorted ascendingly (low to high)"
   ]
  },
  {
   "cell_type": "code",
   "execution_count": 17,
   "metadata": {},
   "outputs": [],
   "source": [
    "# Convert biologic EIS files into form suitable for code\n",
    "\n",
    "data = 'nC3rdbatch-LFP_475um_nC_44-8mg_EMC70_EC30_2VC_PEIS_steps_03_PEIS_C01.txt'\n",
    "seg = 1\n",
    "\n",
    "df = pd.read_csv(data, sep=\"\\t\", encoding= 'unicode_escape')\n",
    "df1 = df.iloc[:, 0:3] \n",
    "df1 = df1.rename(columns={'freq/Hz': 'freq', 'Re(Z)/Ohm':'Z_real', '-Im(Z)/Ohm':'Z_imag'}) \n",
    "\n",
    "df1.Z_imag = df1.Z_imag*-1\n",
    "\n",
    "s = df1['freq'].shift() <= df1['freq']\n",
    "\n",
    "s = df['I_mA'].shift().eq(0) & df['control_mA'].lt(0)\n",
    "df1['segment'] = s.cumsum() + 1\n",
    "\n",
    "df2 = df1[df1['segment'] == seg]\n",
    "\n",
    "df2 = df2.iloc[:, 0:3]\n",
    "\n",
    "df2.sort_values(by=['freq'], inplace=True, ascending=True)\n",
    "\n",
    "df2.to_csv(\"EIS_experiment.csv\", index = False)\n",
    "\n",
    "#df2"
   ]
  },
  {
   "cell_type": "code",
   "execution_count": null,
   "metadata": {},
   "outputs": [],
   "source": []
  },
  {
   "cell_type": "code",
   "execution_count": 18,
   "metadata": {},
   "outputs": [],
   "source": [
    "Z_data = pd.read_csv('EIS_experiment.csv')\n",
    "freq_vec, Z_exp = Z_data['freq'].values, Z_data['Z_real'].values+1j*Z_data['Z_imag'].values\n",
    "\n",
    "# define the frequency range\n",
    "N_freqs = len(freq_vec)\n",
    "xi_vec = np.log(freq_vec)\n",
    "tau  = 1/freq_vec\n",
    "\n",
    "# define the frequency range used for prediction, we choose a wider range to better display the DRT\n",
    "freq_vec_star = np.logspace(-4., 6., num=101, endpoint=True)\n",
    "xi_vec_star = np.log(freq_vec_star)\n",
    "\n",
    "# finer mesh for plotting only\n",
    "freq_vec_plot  = np.logspace(-4., 6., num=1001, endpoint=True)"
   ]
  },
  {
   "cell_type": "markdown",
   "metadata": {},
   "source": [
    "## 2) Show the impedance spectrum as a Nyquist plot"
   ]
  },
  {
   "cell_type": "code",
   "execution_count": 19,
   "metadata": {},
   "outputs": [
    {
     "ename": "IndexError",
     "evalue": "index 50 is out of bounds for axis 0 with size 44",
     "output_type": "error",
     "traceback": [
      "\u001b[1;31m---------------------------------------------------------------------------\u001b[0m",
      "\u001b[1;31mIndexError\u001b[0m                                Traceback (most recent call last)",
      "\u001b[1;32mC:\\Users\\SUNYHI~1\\AppData\\Local\\Temp/ipykernel_21328/1708975439.py\u001b[0m in \u001b[0;36m<module>\u001b[1;34m\u001b[0m\n\u001b[0;32m     24\u001b[0m \u001b[1;31m#move = [[-0.005, 0.008], [-0.005, 0.008], [-0.005, 0.008], [-0.005, 0.01]]\u001b[0m\u001b[1;33m\u001b[0m\u001b[1;33m\u001b[0m\u001b[0m\n\u001b[0;32m     25\u001b[0m \u001b[1;32mfor\u001b[0m \u001b[0mk\u001b[0m\u001b[1;33m,\u001b[0m \u001b[0mind\u001b[0m \u001b[1;32min\u001b[0m \u001b[0menumerate\u001b[0m\u001b[1;33m(\u001b[0m\u001b[0mlabel_index\u001b[0m\u001b[1;33m)\u001b[0m\u001b[1;33m:\u001b[0m\u001b[1;33m\u001b[0m\u001b[1;33m\u001b[0m\u001b[0m\n\u001b[1;32m---> 26\u001b[1;33m     \u001b[0mpower\u001b[0m \u001b[1;33m=\u001b[0m \u001b[0mint\u001b[0m\u001b[1;33m(\u001b[0m\u001b[0mnp\u001b[0m\u001b[1;33m.\u001b[0m\u001b[0mlog10\u001b[0m\u001b[1;33m(\u001b[0m\u001b[0mfreq_vec\u001b[0m\u001b[1;33m[\u001b[0m\u001b[0mind\u001b[0m\u001b[1;33m]\u001b[0m\u001b[1;33m)\u001b[0m\u001b[1;33m)\u001b[0m\u001b[1;33m\u001b[0m\u001b[1;33m\u001b[0m\u001b[0m\n\u001b[0m\u001b[0;32m     27\u001b[0m     \u001b[0mnum\u001b[0m \u001b[1;33m=\u001b[0m \u001b[0mfreq_vec\u001b[0m\u001b[1;33m[\u001b[0m\u001b[0mind\u001b[0m\u001b[1;33m]\u001b[0m\u001b[1;33m/\u001b[0m\u001b[1;33m(\u001b[0m\u001b[1;36m10\u001b[0m\u001b[1;33m**\u001b[0m\u001b[1;33m(\u001b[0m\u001b[0mpower\u001b[0m\u001b[1;33m)\u001b[0m\u001b[1;33m)\u001b[0m\u001b[1;33m\u001b[0m\u001b[1;33m\u001b[0m\u001b[0m\n\u001b[0;32m     28\u001b[0m     plt.annotate(r'${0:.1f}\\times 10^{1}$'.format(num, power), xy=(np.real(Z_exp[ind]), -np.imag(Z_exp[ind])), \n",
      "\u001b[1;31mIndexError\u001b[0m: index 50 is out of bounds for axis 0 with size 44"
     ]
    },
    {
     "data": {
      "image/png": "[encoded data removed]",
      "text/plain": [
       "<Figure size 432x288 with 1 Axes>"
      ]
     },
     "metadata": {
      "needs_background": "light"
     },
     "output_type": "display_data"
    }
   ],
   "source": [
    "plt.rc('text', usetex=True)\n",
    "plt.rc('font', family='serif', size=15)\n",
    "plt.rc('xtick', labelsize=15)\n",
    "plt.rc('ytick', labelsize=15)\n",
    "\n",
    "# Nyquist plot of the EIS spectrum\n",
    "plt.plot(np.real(Z_exp), -np.imag(Z_exp), \"o\", markersize=10, fillstyle='none', color=\"red\", label=\"experiment\")\n",
    "plt.plot(np.real(Z_exp[40:80:10]), -np.imag(Z_exp[40:80:10]), 'o', markersize=10, color=\"black\")\n",
    "\n",
    "plt.legend(frameon=False, fontsize = 15)\n",
    "plt.axis('scaled')\n",
    "\n",
    "# this depends on the data used - if you wish to use your own data you may need to modify this\n",
    "#plt.xlim(1.42, 1.52)\n",
    "#plt.ylim(-0.001, 0.051)\n",
    "#plt.xticks(np.arange(1.42, 1.521, 0.02))\n",
    "#plt.yticks(np.arange(0.00, 0.051, 0.01))\n",
    "plt.gca().set_aspect('equal', adjustable='box')\n",
    "plt.xlabel(r'$Z_{\\rm re}/\\Omega$', fontsize = 20)\n",
    "plt.ylabel(r'$-Z_{\\rm im}/\\Omega$', fontsize = 20)\n",
    "\n",
    "# label the frequencies - if you wish to use your own data you may need to modify this\n",
    "#label_index = range(40,80,10)\n",
    "#move = [[-0.005, 0.008], [-0.005, 0.008], [-0.005, 0.008], [-0.005, 0.01]]\n",
    "for k, ind in enumerate(label_index):\n",
    "    power = int(np.log10(freq_vec[ind]))\n",
    "    num = freq_vec[ind]/(10**(power))\n",
    "    plt.annotate(r'${0:.1f}\\times 10^{1}$'.format(num, power), xy=(np.real(Z_exp[ind]), -np.imag(Z_exp[ind])), \n",
    "                 xytext=(np.real(Z_exp[ind])+move[k][0], move[k][1]-np.imag(Z_exp[ind])), \n",
    "                 arrowprops=dict(arrowstyle=\"-\", connectionstyle=\"arc\"))\n",
    "plt.show()"
   ]
  },
  {
   "cell_type": "markdown",
   "metadata": {},
   "source": [
    "## 3) Compute the optimal hyperparameters\n",
    "### Note: the intial parameters may adjusting"
   ]
  },
  {
   "cell_type": "code",
   "execution_count": 27,
   "metadata": {},
   "outputs": [
    {
     "name": "stdout",
     "output_type": "stream",
     "text": [
      "sigma_n,   sigma_f,   ell\n",
      "0.0934151  3.5801900  0.5601000\n",
      "0.0934151  3.5801900  0.5601000\n",
      "0.0934151  3.5801900  0.5601000\n",
      "0.0934151  3.5801900  0.5601000\n",
      "0.0934151  3.5801900  0.5601000\n",
      "0.0934151  3.5801900  0.5601000\n",
      "0.0934151  3.5801900  0.5601000\n",
      "0.0934151  3.5801900  0.5601000\n",
      "0.0934151  3.5801900  0.5601000\n",
      "0.0934151  3.5801900  0.5601000\n",
      "0.0934151  3.5801900  0.5601000\n",
      "0.0934151  3.5801900  0.5601000\n",
      "0.0934151  3.5801900  0.5601000\n",
      "0.0934151  3.5801900  0.5601000\n",
      "0.0934151  3.5801900  0.5601000\n",
      "0.0934151  3.5801900  0.5601000\n",
      "0.0934151  3.5801900  0.5601000\n",
      "0.0934151  3.5801900  0.5601000\n",
      "0.0934151  3.5801900  0.5601000\n",
      "0.0934151  3.5801900  0.5601000\n",
      "0.0934151  3.5801900  0.5601000\n",
      "0.0934151  3.5801900  0.5601000\n",
      "0.0934151  3.5801900  0.5601000\n",
      "0.0934151  3.5801900  0.5601000\n",
      "0.0934151  3.5801900  0.5601000\n",
      "0.0934151  3.5801900  0.5601000\n",
      "0.0934151  3.5801900  0.5601000\n",
      "0.0934151  3.5801900  0.5601000\n",
      "0.0934151  3.5801900  0.5601000\n",
      "0.0934151  3.5801900  0.5601000\n",
      "0.0934151  3.5801900  0.5601000\n",
      "0.0934151  3.5801900  0.5601000\n",
      "0.0934151  3.5801900  0.5601000\n",
      "0.0934151  3.5801900  0.5601000\n",
      "0.0934151  3.5801900  0.5601000\n",
      "0.0934151  3.5801900  0.5601000\n",
      "0.0934151  3.5801900  0.5601000\n",
      "0.0934151  3.5801900  0.5601000\n",
      "0.0934151  3.5801900  0.5601000\n",
      "0.0934151  3.5801900  0.5601000\n",
      "0.0934151  3.5801900  0.5601000\n",
      "0.0934151  3.5801900  0.5601000\n",
      "0.0934151  3.5801900  0.5601000\n",
      "0.0934151  3.5801900  0.5601000\n",
      "0.0934151  3.5801900  0.5601000\n",
      "0.0934151  3.5801900  0.5601000\n",
      "0.0934151  3.5801900  0.5601000\n",
      "0.0934151  3.5801900  0.5601000\n",
      "0.0934151  3.5801900  0.5601000\n",
      "0.0934151  3.5801900  0.5601000\n",
      "0.0934151  3.5801900  0.5601000\n",
      "0.0934151  3.5801900  0.5601000\n",
      "0.0934151  3.5801900  0.5601000\n",
      "0.0934151  3.5801900  0.5601000\n",
      "0.0934151  3.5801900  0.5601000\n",
      "0.0934151  3.5801900  0.5601000\n",
      "0.0934151  3.5801900  0.5601000\n",
      "0.0934151  3.5801900  0.5601000\n",
      "0.0934151  3.5801900  0.5601000\n",
      "0.0934151  3.5801900  0.5601000\n",
      "0.0934151  3.5801900  0.5601000\n",
      "0.0934151  3.5801900  0.5601000\n",
      "0.0934151  3.5801900  0.5601000\n",
      "0.0934151  3.5801900  0.5601000\n",
      "0.0934151  3.5801900  0.5601000\n",
      "0.0934151  3.5801900  0.5601000\n",
      "0.0934151  3.5801900  0.5601000\n",
      "0.0934151  3.5801900  0.5601000\n",
      "0.0934151  3.5801900  0.5601000\n",
      "0.0934151  3.5801900  0.5601000\n",
      "0.0934151  3.5801900  0.5601000\n",
      "0.0934151  3.5801900  0.5601000\n",
      "0.0934151  3.5801900  0.5601000\n",
      "0.0934151  3.5801900  0.5601000\n",
      "0.0934158  3.5802493  0.5600898\n",
      "0.0934158  3.5802493  0.5600898\n",
      "0.0934154  3.5802149  0.5600958\n",
      "0.0934154  3.5802149  0.5600958\n",
      "0.0934148  3.5801707  0.5601034\n",
      "0.0934148  3.5801707  0.5601034\n",
      "0.0934148  3.5801707  0.5601034\n",
      "0.0934148  3.5801707  0.5601034\n",
      "0.0934148  3.5801707  0.5601034\n",
      "0.0934148  3.5801707  0.5601034\n",
      "0.0934148  3.5801707  0.5601034\n",
      "0.0934151  3.5801936  0.5600994\n",
      "0.0934151  3.5801936  0.5600994\n",
      "0.0934151  3.5801936  0.5600994\n",
      "0.0934151  3.5801936  0.5600994\n",
      "0.0934150  3.5801816  0.5601015\n",
      "0.0934150  3.5801816  0.5601015\n",
      "0.0934150  3.5801816  0.5601015\n",
      "0.0934150  3.5801816  0.5601015\n",
      "0.0934150  3.5801816  0.5601015\n",
      "0.0934150  3.5801814  0.5601015\n",
      "0.0934151  3.5801943  0.5600993\n",
      "0.0934151  3.5801943  0.5600993\n",
      "0.0934151  3.5801943  0.5600993\n",
      "0.0934151  3.5801943  0.5600993\n",
      "0.0934151  3.5801943  0.5600993\n",
      "0.0934151  3.5801914  0.5600998\n",
      "0.0934151  3.5801914  0.5600998\n",
      "0.0934151  3.5801929  0.5600996\n",
      "0.0934151  3.5801929  0.5600996\n",
      "0.0934151  3.5801929  0.5600996\n",
      "0.0934151  3.5801929  0.5600996\n",
      "0.0934151  3.5801929  0.5600996\n",
      "0.0934151  3.5801929  0.5600996\n",
      "0.0934151  3.5801929  0.5600996\n",
      "0.0934151  3.5801929  0.5600996\n",
      "0.0934151  3.5801929  0.5600996\n",
      "0.0934151  3.5801929  0.5600996\n",
      "0.0934151  3.5801929  0.5600996\n",
      "0.0934151  3.5801923  0.5600996\n",
      "0.0934151  3.5801924  0.5600996\n",
      "0.0934151  3.5801924  0.5600996\n",
      "0.0934151  3.5801924  0.5600996\n",
      "0.0934151  3.5801926  0.5600996\n",
      "0.0934151  3.5801925  0.5600996\n",
      "0.0934151  3.5801925  0.5600996\n",
      "0.0934151  3.5801925  0.5600996\n",
      "0.0934151  3.5801925  0.5600996\n",
      "0.0934151  3.5801925  0.5600996\n",
      "0.0934151  3.5801925  0.5600996\n",
      "0.0934151  3.5801925  0.5600996\n",
      "0.0934151  3.5801925  0.5600996\n",
      "0.0934151  3.5801925  0.5600996\n",
      "0.0934151  3.5801925  0.5600996\n",
      "0.0934151  3.5801925  0.5600996\n",
      "0.0934151  3.5801925  0.5600996\n",
      "0.0934151  3.5801925  0.5600996\n",
      "0.0934151  3.5801925  0.5600996\n",
      "0.0934151  3.5801926  0.5600996\n",
      "0.0934151  3.5801926  0.5600996\n",
      "0.0934151  3.5801926  0.5600996\n",
      "0.0934151  3.5801926  0.5600996\n",
      "0.0934151  3.5801926  0.5600996\n",
      "0.0934151  3.5801926  0.5600996\n",
      "0.0934151  3.5801926  0.5600996\n",
      "0.0934151  3.5801926  0.5600996\n",
      "0.0934151  3.5801926  0.5600996\n",
      "0.0934151  3.5801926  0.5600996\n",
      "0.0934151  3.5801926  0.5600996\n",
      "0.0934151  3.5801926  0.5600996\n",
      "0.0934151  3.5801926  0.5600996\n",
      "0.0934151  3.5801926  0.5600996\n",
      "0.0934151  3.5801926  0.5600996\n",
      "0.0934151  3.5801926  0.5600996\n",
      "0.0934151  3.5801926  0.5600996\n",
      "0.0934151  3.5801926  0.5600996\n",
      "0.0934151  3.5801926  0.5600996\n",
      "0.0934151  3.5801926  0.5600996\n",
      "0.0934151  3.5801926  0.5600996\n",
      "0.0934151  3.5801926  0.5600996\n",
      "0.0934151  3.5801926  0.5600996\n",
      "0.0934151  3.5801926  0.5600996\n",
      "0.0934151  3.5801926  0.5600996\n",
      "0.0934151  3.5801926  0.5600996\n",
      "0.0934151  3.5801926  0.5600996\n",
      "0.0934151  3.5801926  0.5600996\n",
      "0.0934151  3.5801926  0.5600996\n",
      "0.0934151  3.5801926  0.5600996\n",
      "0.0934151  3.5801926  0.5600996\n",
      "0.0934151  3.5801926  0.5600996\n",
      "0.0934151  3.5801926  0.5600996\n",
      "0.0934151  3.5801926  0.5600996\n",
      "0.0934151  3.5801926  0.5600996\n",
      "0.0934151  3.5801926  0.5600996\n",
      "0.0934151  3.5801926  0.5600996\n",
      "0.0934151  3.5801926  0.5600996\n",
      "0.0934151  3.5801926  0.5600996\n",
      "0.0934151  3.5801926  0.5600996\n",
      "0.0934151  3.5801926  0.5600996\n",
      "0.0934151  3.5801926  0.5600996\n",
      "0.0934151  3.5801926  0.5600996\n",
      "0.0934151  3.5801926  0.5600996\n",
      "0.0934151  3.5801926  0.5600996\n",
      "0.0934151  3.5801926  0.5600996\n",
      "0.0934151  3.5801926  0.5600996\n",
      "0.0934151  3.5801926  0.5600996\n",
      "Optimization terminated successfully.\n",
      "         Current function value: -64.757983\n",
      "         Iterations: 181\n",
      "         Function evaluations: 408\n",
      "Warning: Desired error not necessarily achieved due to precision loss.\n",
      "         Current function value: -64.757983\n",
      "         Iterations: 0\n",
      "         Function evaluations: 46\n",
      "         Gradient evaluations: 34\n"
     ]
    }
   ],
   "source": [
    "# initial parameters parameter to maximize the marginal log-likelihood as shown in eq (31)\n",
    "sigma_n = 0.0934151    #3.0E-4\n",
    "sigma_f = 3.58019      #6.0E-3\n",
    "ell = 0.5601            #2\n",
    "\n",
    "theta_0 = np.array([sigma_n, sigma_f, ell])\n",
    "seq_theta = np.copy(theta_0)\n",
    "def print_results(theta):\n",
    "    global seq_theta\n",
    "    seq_theta = np.vstack((seq_theta, theta))\n",
    "    print('{0:.7f}  {1:.7f}  {2:.7f}'.format(theta[0], theta[1], theta[2]))\n",
    "    \n",
    "print('sigma_n,   sigma_f,   ell')\n",
    "\n",
    "# minimize the NMLL $L(\\theta)$ w.r.t sigma_n, sigma_f, ell using the BFGS method as implemented in scipy\n",
    "res = minimize(GP_DRT.NMLL_fct, theta_0, args=(Z_exp, xi_vec), method='Nelder-Mead', \\\n",
    "               callback=print_results, options={'disp': True})\n",
    "\n",
    "theta_0 = res.x\n",
    "res = minimize(GP_DRT.NMLL_fct, theta_0, args=(Z_exp, xi_vec), method='BFGS', \\\n",
    "               jac=GP_DRT.grad_NMLL_fct,  callback=print_results, options={'disp': True})\n",
    "\n",
    "# collect the optimized parameters\n",
    "sigma_n, sigma_f, ell = res.x"
   ]
  },
  {
   "cell_type": "markdown",
   "metadata": {},
   "source": [
    "## 4) Core of the GP-DRT"
   ]
  },
  {
   "cell_type": "markdown",
   "metadata": {},
   "source": [
    "### 4a) Compute matrices"
   ]
  },
  {
   "cell_type": "code",
   "execution_count": 28,
   "metadata": {},
   "outputs": [],
   "source": [
    "# calculate the matrices shown in eq (18)\n",
    "K = GP_DRT.matrix_K(xi_vec, xi_vec, sigma_f, ell)\n",
    "L_im_K = GP_DRT.matrix_L_im_K(xi_vec, xi_vec, sigma_f, ell)\n",
    "L2_im_K = GP_DRT.matrix_L2_im_K(xi_vec, xi_vec, sigma_f, ell)\n",
    "Sigma = (sigma_n**2)*np.eye(N_freqs)"
   ]
  },
  {
   "cell_type": "markdown",
   "metadata": {},
   "source": [
    "### 4b) Factorize the matrices and solve the linear equations"
   ]
  },
  {
   "cell_type": "code",
   "execution_count": 29,
   "metadata": {},
   "outputs": [
    {
     "name": "stderr",
     "output_type": "stream",
     "text": [
      "C:\\Users\\SUNYHI~1\\AppData\\Local\\Temp/ipykernel_21328/1486510542.py:24: RuntimeWarning: invalid value encountered in sqrt\n",
      "  sigma_gamma_fct_est = np.sqrt(np.diag(cov_gamma_fct_est))\n"
     ]
    }
   ],
   "source": [
    "# the matrix $\\mathcal L^2_{\\rm im} \\mathbf K + \\sigma_n^2 \\mathbf I$ whose inverse is needed\n",
    "K_im_full = L2_im_K + Sigma\n",
    "\n",
    "# check if the K_im_full is positive definite, otherwise, a nearest one would replace the K_im_full\n",
    "if not GP_DRT.is_PD(K_im_full):\n",
    "    K_im_full = GP_DRT.nearest_PD(K_im_full)\n",
    "\n",
    "# Cholesky factorization, L is a lower-triangular matrix\n",
    "L = np.linalg.cholesky(K_im_full)\n",
    "\n",
    "# solve for alpha\n",
    "alpha = np.linalg.solve(L, Z_exp.imag)\n",
    "alpha = np.linalg.solve(L.T, alpha)\n",
    "\n",
    "# estimate the gamma of eq (21a)\n",
    "gamma_fct_est = np.dot(L_im_K, alpha)\n",
    "\n",
    "# covariance matrix\n",
    "inv_L = np.linalg.inv(L)\n",
    "inv_K_im_full = np.dot(inv_L.T, inv_L)\n",
    "\n",
    "# estimate the sigma of gamma for eq (21b)\n",
    "cov_gamma_fct_est = K - np.dot(L_im_K, np.dot(inv_K_im_full, L_im_K.T))\n",
    "sigma_gamma_fct_est = np.sqrt(np.diag(cov_gamma_fct_est))"
   ]
  },
  {
   "cell_type": "markdown",
   "metadata": {},
   "source": [
    "### 4c) Predict the imaginary part of the GP-DRT and impedance"
   ]
  },
  {
   "cell_type": "code",
   "execution_count": 30,
   "metadata": {},
   "outputs": [],
   "source": [
    "# initialize the imaginary part of impedance vector\n",
    "Z_im_vec_star = np.empty_like(xi_vec_star)\n",
    "Sigma_Z_im_vec_star = np.empty_like(xi_vec_star)\n",
    "\n",
    "gamma_vec_star = np.empty_like(xi_vec_star)\n",
    "Sigma_gamma_vec_star = np.empty_like(xi_vec_star)\n",
    "\n",
    "# calculate the imaginary part of impedance at each $\\xi$ point for the plot\n",
    "for index, val in enumerate(xi_vec_star):\n",
    "    xi_star = np.array([val])\n",
    "\n",
    "    # compute matrices shown in eq (18), xi_star corresponds to a new point\n",
    "    k_star = GP_DRT.matrix_K(xi_vec, xi_star, sigma_f, ell)\n",
    "    L_im_k_star_up = GP_DRT.matrix_L_im_K(xi_star, xi_vec, sigma_f, ell)\n",
    "    L2_im_k_star = GP_DRT.matrix_L2_im_K(xi_vec, xi_star, sigma_f, ell)\n",
    "    k_star_star = GP_DRT.matrix_K(xi_star, xi_star, sigma_f, ell)\n",
    "    L_im_k_star_star = GP_DRT.matrix_L_im_K(xi_star, xi_star, sigma_f, ell)\n",
    "    L2_im_k_star_star = GP_DRT.matrix_L2_im_K(xi_star, xi_star, sigma_f, ell)\n",
    "\n",
    "    # compute Z_im_star mean and standard deviation using eq (26)\n",
    "    Z_im_vec_star[index] = np.dot(L2_im_k_star.T, np.dot(inv_K_im_full, Z_exp.imag))\n",
    "    Sigma_Z_im_vec_star[index] = L2_im_k_star_star - np.dot(L2_im_k_star.T, np.dot(inv_K_im_full, L2_im_k_star))\n",
    "    \n",
    "    # compute gamma_star mean and standard deviation using eq (29)\n",
    "    gamma_vec_star[index] = np.dot(L_im_k_star_up, np.dot(inv_K_im_full, Z_exp.imag))\n",
    "    Sigma_gamma_vec_star[index] = k_star_star - np.dot(L_im_k_star_up, np.dot(inv_K_im_full, L_im_k_star_up.T))"
   ]
  },
  {
   "cell_type": "markdown",
   "metadata": {},
   "source": [
    "### 4d) Plot the obtained GP-DRT"
   ]
  },
  {
   "cell_type": "code",
   "execution_count": 31,
   "metadata": {},
   "outputs": [
    {
     "data": {
      "image/png": "[encoded data removed]",
      "text/plain": [
       "<Figure size 432x288 with 1 Axes>"
      ]
     },
     "metadata": {
      "needs_background": "light"
     },
     "output_type": "display_data"
    }
   ],
   "source": [
    "# plot the DRT and its confidence region\n",
    "plt.semilogx(freq_vec_star, gamma_vec_star, linewidth=4, color=\"red\", label=\"GP-DRT\")\n",
    "plt.fill_between(freq_vec_star, gamma_vec_star-3*np.sqrt(abs(Sigma_gamma_vec_star)), gamma_vec_star+3*np.sqrt(abs(Sigma_gamma_vec_star)), color=\"0.4\", alpha=0.3)\n",
    "plt.rc('text', usetex=True)\n",
    "plt.rc('font', family='serif', size=15)\n",
    "plt.rc('xtick', labelsize=15)\n",
    "plt.rc('ytick', labelsize=15)\n",
    "#plt.axis([1E-4,1E6,-0.01,0.025])\n",
    "#plt.yticks(np.arange(-0.01, 0.025, 0.01))\n",
    "plt.legend(frameon=False, fontsize = 15)\n",
    "plt.xlabel(r'$f/{\\rm Hz}$', fontsize = 20)\n",
    "plt.ylabel(r'$\\gamma/\\Omega$', fontsize = 20)\n",
    "plt.show()"
   ]
  },
  {
   "cell_type": "markdown",
   "metadata": {},
   "source": [
    "### 4e) Plot the imaginary part of the GP-DRT impedance together with the experimental one"
   ]
  },
  {
   "cell_type": "code",
   "execution_count": 32,
   "metadata": {},
   "outputs": [
    {
     "data": {
      "image/png": "[encoded data removed]",
      "text/plain": [
       "<Figure size 432x288 with 1 Axes>"
      ]
     },
     "metadata": {
      "needs_background": "light"
     },
     "output_type": "display_data"
    }
   ],
   "source": [
    "plt.semilogx(freq_vec, -Z_exp.imag, \"o\", markersize=10, color=\"black\", label=\"synth exp\")\n",
    "plt.semilogx(freq_vec_star, -Z_im_vec_star, linewidth=4, color=\"red\", label=\"GP-DRT\")\n",
    "plt.fill_between(freq_vec_star, -Z_im_vec_star-3*np.sqrt(abs(Sigma_Z_im_vec_star)), -Z_im_vec_star+\\\n",
    "                 3*np.sqrt(abs(Sigma_Z_im_vec_star)), alpha=0.3)\n",
    "plt.rc('text', usetex=True)\n",
    "plt.rc('font', family='serif', size=15)\n",
    "plt.rc('xtick', labelsize=15)\n",
    "plt.rc('ytick', labelsize=15)\n",
    "#plt.axis([1E-3,1E5,-0.01,0.03])\n",
    "plt.legend(frameon=False, fontsize = 15)\n",
    "plt.xlabel(r'$f/{\\rm Hz}$', fontsize = 20)\n",
    "plt.ylabel(r'$-Z_{\\rm im}/\\Omega$', fontsize = 20)\n",
    "plt.show()"
   ]
  },
  {
   "cell_type": "code",
   "execution_count": null,
   "metadata": {},
   "outputs": [],
   "source": []
  }
 ],
 "metadata": {
  "kernelspec": {
   "display_name": "Python 3 (ipykernel)",
   "language": "python",
   "name": "python3"
  },
  "language_info": {
   "codemirror_mode": {
    "name": "ipython",
    "version": 3
   },
   "file_extension": ".py",
   "mimetype": "text/x-python",
   "name": "python",
   "nbconvert_exporter": "python",
   "pygments_lexer": "ipython3",
   "version": "3.9.7"
  }
 },
 "nbformat": 4,
 "nbformat_minor": 2
}
