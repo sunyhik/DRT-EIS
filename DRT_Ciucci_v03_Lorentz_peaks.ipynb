{
 "cells": [
  {
   "cell_type": "markdown",
   "metadata": {},
   "source": [
    "# Gaussian Process Distribution of Relaxation Times. "
   ]
  },
  {
   "cell_type": "markdown",
   "metadata": {},
   "source": [
    "## In this tutorial we will show use the GP-DRT method to analyze actual experimental data\n",
    "\n",
    "The impedance data in the csv file named `EIS_experiment.csv`. The file has three columns. The first column is the frequency, the second one the real part of the impedance. The third column is the imaginary part of impedance. To use this tutorial for your own data, we recommend the frequencies go are sorted ascendingly."
   ]
  },
  {
   "cell_type": "code",
   "execution_count": 1,
   "metadata": {},
   "outputs": [],
   "source": [
    "import numpy as np\n",
    "import matplotlib as mpl\n",
    "mpl.rcParams.update(mpl.rcParamsDefault)\n",
    "import matplotlib.pyplot as plt\n",
    "import scipy as scipy\n",
    "\n",
    "from math import sin, cos, pi\n",
    "import GP_DRT\n",
    "from scipy.optimize import minimize\n",
    "import pandas as pd\n",
    "%matplotlib inline"
   ]
  },
  {
   "cell_type": "markdown",
   "metadata": {},
   "source": [
    "## 1) Read in the impedance data from the csv file\n",
    "### IMPORTANT: frequencies should be sorted ascendingly (low to high)"
   ]
  },
  {
   "cell_type": "code",
   "execution_count": 2,
   "metadata": {},
   "outputs": [],
   "source": [
    "# Convert biologic EIS files into form suitable for code\n",
    "\n",
    "data = 'nC3rdbatch-LFP-475um-nC_44-8mg-EMC70-EC30-2VC-cycle1.csv'\n",
    "\n",
    "df = pd.read_csv(data, header=None, encoding= 'unicode_escape')\n",
    "\n",
    "df.rename(columns={0: 'freq', 1: 'Z_real', 2: 'Z_imag'}, inplace=True)\n",
    "\n",
    "df.sort_values(by=['freq'], inplace=True, ascending=True)\n",
    "\n",
    "df.to_csv(\"EIS_experiment.csv\", index = False)\n"
   ]
  },
  {
   "cell_type": "code",
   "execution_count": 3,
   "metadata": {},
   "outputs": [],
   "source": [
    "Z_data = pd.read_csv('EIS_experiment.csv')\n",
    "freq_vec, Z_exp = Z_data['freq'].values, Z_data['Z_real'].values+1j*Z_data['Z_imag'].values\n",
    "\n",
    "# define the frequency range\n",
    "N_freqs = len(freq_vec)\n",
    "xi_vec = np.log(freq_vec)\n",
    "tau  = 1/freq_vec\n",
    "\n",
    "# define the frequency range used for prediction, we choose a wider range to better display the DRT\n",
    "freq_vec_star = np.logspace(-4., 6., num=101, endpoint=True)\n",
    "xi_vec_star = np.log(freq_vec_star)\n",
    "\n",
    "# finer mesh for plotting only\n",
    "freq_vec_plot  = np.logspace(-4., 6., num=1001, endpoint=True)"
   ]
  },
  {
   "cell_type": "markdown",
   "metadata": {},
   "source": [
    "## 2) Show the impedance spectrum as a Nyquist plot"
   ]
  },
  {
   "cell_type": "code",
   "execution_count": 4,
   "metadata": {},
   "outputs": [
    {
     "ename": "NameError",
     "evalue": "name 'label_index' is not defined",
     "output_type": "error",
     "traceback": [
      "\u001b[1;31m---------------------------------------------------------------------------\u001b[0m",
      "\u001b[1;31mNameError\u001b[0m                                 Traceback (most recent call last)",
      "\u001b[1;32mC:\\Users\\SUNYHI~1\\AppData\\Local\\Temp/ipykernel_22208/1708975439.py\u001b[0m in \u001b[0;36m<module>\u001b[1;34m\u001b[0m\n\u001b[0;32m     23\u001b[0m \u001b[1;31m#label_index = range(40,80,10)\u001b[0m\u001b[1;33m\u001b[0m\u001b[1;33m\u001b[0m\u001b[0m\n\u001b[0;32m     24\u001b[0m \u001b[1;31m#move = [[-0.005, 0.008], [-0.005, 0.008], [-0.005, 0.008], [-0.005, 0.01]]\u001b[0m\u001b[1;33m\u001b[0m\u001b[1;33m\u001b[0m\u001b[0m\n\u001b[1;32m---> 25\u001b[1;33m \u001b[1;32mfor\u001b[0m \u001b[0mk\u001b[0m\u001b[1;33m,\u001b[0m \u001b[0mind\u001b[0m \u001b[1;32min\u001b[0m \u001b[0menumerate\u001b[0m\u001b[1;33m(\u001b[0m\u001b[0mlabel_index\u001b[0m\u001b[1;33m)\u001b[0m\u001b[1;33m:\u001b[0m\u001b[1;33m\u001b[0m\u001b[1;33m\u001b[0m\u001b[0m\n\u001b[0m\u001b[0;32m     26\u001b[0m     \u001b[0mpower\u001b[0m \u001b[1;33m=\u001b[0m \u001b[0mint\u001b[0m\u001b[1;33m(\u001b[0m\u001b[0mnp\u001b[0m\u001b[1;33m.\u001b[0m\u001b[0mlog10\u001b[0m\u001b[1;33m(\u001b[0m\u001b[0mfreq_vec\u001b[0m\u001b[1;33m[\u001b[0m\u001b[0mind\u001b[0m\u001b[1;33m]\u001b[0m\u001b[1;33m)\u001b[0m\u001b[1;33m)\u001b[0m\u001b[1;33m\u001b[0m\u001b[1;33m\u001b[0m\u001b[0m\n\u001b[0;32m     27\u001b[0m     \u001b[0mnum\u001b[0m \u001b[1;33m=\u001b[0m \u001b[0mfreq_vec\u001b[0m\u001b[1;33m[\u001b[0m\u001b[0mind\u001b[0m\u001b[1;33m]\u001b[0m\u001b[1;33m/\u001b[0m\u001b[1;33m(\u001b[0m\u001b[1;36m10\u001b[0m\u001b[1;33m**\u001b[0m\u001b[1;33m(\u001b[0m\u001b[0mpower\u001b[0m\u001b[1;33m)\u001b[0m\u001b[1;33m)\u001b[0m\u001b[1;33m\u001b[0m\u001b[1;33m\u001b[0m\u001b[0m\n",
      "\u001b[1;31mNameError\u001b[0m: name 'label_index' is not defined"
     ]
    },
    {
     "data": {
      "image/png": "[encoded data removed]",
      "text/plain": [
       "<Figure size 432x288 with 1 Axes>"
      ]
     },
     "metadata": {
      "needs_background": "light"
     },
     "output_type": "display_data"
    }
   ],
   "source": [
    "plt.rc('text', usetex=True)\n",
    "plt.rc('font', family='serif', size=15)\n",
    "plt.rc('xtick', labelsize=15)\n",
    "plt.rc('ytick', labelsize=15)\n",
    "\n",
    "# Nyquist plot of the EIS spectrum\n",
    "plt.plot(np.real(Z_exp), -np.imag(Z_exp), \"o\", markersize=10, fillstyle='none', color=\"red\", label=\"experiment\")\n",
    "plt.plot(np.real(Z_exp[40:80:10]), -np.imag(Z_exp[40:80:10]), 'o', markersize=10, color=\"black\")\n",
    "\n",
    "plt.legend(frameon=False, fontsize = 15)\n",
    "plt.axis('scaled')\n",
    "\n",
    "# this depends on the data used - if you wish to use your own data you may need to modify this\n",
    "#plt.xlim(1.42, 1.52)\n",
    "#plt.ylim(-0.001, 0.051)\n",
    "#plt.xticks(np.arange(1.42, 1.521, 0.02))\n",
    "#plt.yticks(np.arange(0.00, 0.051, 0.01))\n",
    "plt.gca().set_aspect('equal', adjustable='box')\n",
    "plt.xlabel(r'$Z_{\\rm re}/\\Omega$', fontsize = 20)\n",
    "plt.ylabel(r'$-Z_{\\rm im}/\\Omega$', fontsize = 20)\n",
    "\n",
    "# label the frequencies - if you wish to use your own data you may need to modify this\n",
    "#label_index = range(40,80,10)\n",
    "#move = [[-0.005, 0.008], [-0.005, 0.008], [-0.005, 0.008], [-0.005, 0.01]]\n",
    "for k, ind in enumerate(label_index):\n",
    "    power = int(np.log10(freq_vec[ind]))\n",
    "    num = freq_vec[ind]/(10**(power))\n",
    "    plt.annotate(r'${0:.1f}\\times 10^{1}$'.format(num, power), xy=(np.real(Z_exp[ind]), -np.imag(Z_exp[ind])), \n",
    "                 xytext=(np.real(Z_exp[ind])+move[k][0], move[k][1]-np.imag(Z_exp[ind])), \n",
    "                 arrowprops=dict(arrowstyle=\"-\", connectionstyle=\"arc\"))\n",
    "plt.show()"
   ]
  },
  {
   "cell_type": "markdown",
   "metadata": {},
   "source": [
    "## 3) Compute the optimal hyperparameters\n",
    "### Note: the intial parameters may adjusting"
   ]
  },
  {
   "cell_type": "code",
   "execution_count": 5,
   "metadata": {},
   "outputs": [
    {
     "name": "stdout",
     "output_type": "stream",
     "text": [
      "sigma_n,   sigma_f,   ell\n",
      "0.0336000  0.0630000  1.0000000\n",
      "0.0313600  0.0650000  1.0833333\n",
      "0.0324800  0.0700000  1.0166667\n",
      "0.0280000  0.0740000  1.0333333\n",
      "0.0246400  0.0830000  1.1333333\n",
      "0.0224000  0.0970000  1.0166667\n",
      "0.0100800  0.1140000  1.1500000\n",
      "0.0100800  0.1220000  1.1666667\n",
      "0.0100800  0.1220000  1.1666667\n",
      "0.0100800  0.1220000  1.1666667\n",
      "0.0058904  0.1296667  1.1432099\n",
      "0.0058904  0.1296667  1.1432099\n",
      "0.0058904  0.1296667  1.1432099\n",
      "0.0067719  0.1410833  1.1452160\n",
      "0.0067719  0.1410833  1.1452160\n",
      "0.0067719  0.1410833  1.1452160\n",
      "0.0067719  0.1410833  1.1452160\n",
      "0.0067719  0.1410833  1.1452160\n",
      "0.0074606  0.1502878  1.1345808\n",
      "0.0077268  0.1691798  1.1426569\n",
      "0.0077268  0.1691798  1.1426569\n",
      "0.0102459  0.1813086  1.1343621\n",
      "0.0082289  0.2127608  1.1164866\n",
      "0.0112804  0.2626736  1.1243441\n",
      "0.0143016  0.3183835  1.0898791\n",
      "0.0122947  0.3479033  1.0861111\n",
      "0.0214188  0.5034388  1.0673611\n",
      "0.0254544  0.6443783  0.9946631\n",
      "0.0305647  0.8589534  0.9683771\n",
      "0.0528486  1.3109640  0.8581790\n",
      "0.0660299  1.8074182  0.6864969\n",
      "0.0660299  1.8074182  0.6864969\n",
      "0.0660299  1.8074182  0.6864969\n",
      "0.0660299  1.8074182  0.6864969\n",
      "0.0660299  1.8074182  0.6864969\n",
      "0.0591395  1.6256221  0.7593009\n",
      "0.0490801  1.5066081  0.7077329\n",
      "0.0490801  1.5066081  0.7077329\n",
      "0.0495641  1.5255602  0.7385889\n",
      "0.0495641  1.5255602  0.7385889\n",
      "0.0458786  1.5357681  0.6735144\n",
      "0.0458786  1.5357681  0.6735144\n",
      "0.0508110  1.6643934  0.7013942\n",
      "0.0508110  1.6643934  0.7013942\n",
      "0.0508110  1.6643934  0.7013942\n",
      "0.0508110  1.6643934  0.7013942\n",
      "0.0508110  1.6643934  0.7013942\n",
      "0.0508110  1.6643934  0.7013942\n",
      "0.0538792  1.6965204  0.7642913\n",
      "0.0608373  1.9279613  0.7674390\n",
      "0.0608373  1.9279613  0.7674390\n",
      "0.0636376  1.9841600  0.8233022\n",
      "0.0636376  1.9841600  0.8233022\n",
      "0.0636376  1.9841600  0.8233022\n",
      "0.0614894  1.8726316  0.8658701\n",
      "0.0614894  1.8726316  0.8658701\n",
      "0.0614894  1.8726316  0.8658701\n",
      "0.0614894  1.8726316  0.8658701\n",
      "0.0614894  1.8726316  0.8658701\n",
      "0.0614894  1.8726316  0.8658701\n",
      "0.0631588  1.8595710  0.9389488\n",
      "0.0631588  1.8595710  0.9389488\n",
      "0.0582129  1.6978300  0.9546113\n",
      "0.0582129  1.6978300  0.9546113\n",
      "0.0614663  1.7646613  1.0082087\n",
      "0.0614663  1.7646613  1.0082087\n",
      "0.0579620  1.6669445  1.0057771\n",
      "0.0627406  1.8080952  1.0242252\n",
      "0.0627406  1.8080952  1.0242252\n",
      "0.0572139  1.6115691  1.0847900\n",
      "0.0634745  1.7516273  1.1686661\n",
      "0.0634745  1.7516273  1.1686661\n",
      "0.0634745  1.7516273  1.1686661\n",
      "0.0634745  1.7516273  1.1686661\n",
      "0.0634745  1.7516273  1.1686661\n",
      "0.0661859  1.8035373  1.2402376\n",
      "0.0661859  1.8035373  1.2402376\n",
      "0.0622567  1.7234098  1.1676310\n",
      "0.0618088  1.6729208  1.2701497\n",
      "0.0618088  1.6729208  1.2701497\n",
      "0.0618088  1.6729208  1.2701497\n",
      "0.0638754  1.7182709  1.3273226\n",
      "0.0638754  1.7182709  1.3273226\n",
      "0.0621079  1.6934206  1.2532572\n",
      "0.0621079  1.6934206  1.2532572\n",
      "0.0636110  1.7277684  1.2739051\n",
      "0.0634837  1.7211436  1.2894547\n",
      "0.0634715  1.7161909  1.2997642\n",
      "0.0634715  1.7161909  1.2997642\n",
      "0.0629024  1.7021618  1.2992292\n",
      "0.0629024  1.7021618  1.2992292\n",
      "0.0629024  1.7021618  1.2992292\n",
      "0.0629024  1.7021618  1.2992292\n",
      "0.0629024  1.7021618  1.2992292\n",
      "0.0629024  1.7021618  1.2992292\n",
      "0.0629024  1.7021618  1.2992292\n",
      "0.0629024  1.7021618  1.2992292\n",
      "0.0628474  1.6980285  1.3081439\n",
      "0.0628474  1.6980285  1.3081439\n",
      "0.0628474  1.6980285  1.3081439\n",
      "0.0628474  1.6980285  1.3081439\n",
      "0.0628474  1.6980285  1.3081439\n",
      "0.0628474  1.6980285  1.3081439\n",
      "0.0628474  1.6980285  1.3081439\n",
      "0.0628474  1.6980285  1.3081439\n",
      "0.0627395  1.6959589  1.3045684\n",
      "0.0627395  1.6959589  1.3045684\n",
      "0.0627395  1.6959589  1.3045684\n",
      "0.0628146  1.6974284  1.3068291\n",
      "0.0627825  1.6967159  1.3059655\n",
      "0.0628085  1.6975179  1.3057756\n",
      "0.0627707  1.6965898  1.3053792\n",
      "0.0627707  1.6965898  1.3053792\n",
      "0.0627707  1.6965898  1.3053792\n",
      "0.0627717  1.6965240  1.3058082\n",
      "0.0627717  1.6965240  1.3058082\n",
      "0.0627717  1.6965240  1.3058082\n",
      "0.0627771  1.6967136  1.3056034\n",
      "0.0627771  1.6967136  1.3056034\n",
      "0.0627771  1.6967136  1.3056034\n",
      "0.0627771  1.6967136  1.3056034\n",
      "0.0627819  1.6968064  1.3057544\n",
      "0.0627772  1.6966973  1.3057013\n",
      "0.0627772  1.6966973  1.3057013\n",
      "0.0627772  1.6966973  1.3057013\n",
      "0.0627772  1.6966973  1.3057013\n",
      "Optimization terminated successfully.\n",
      "         Current function value: -56.441794\n",
      "         Iterations: 127\n",
      "         Function evaluations: 231\n",
      "0.0627774  1.6966973  1.3057013\n",
      "0.0627781  1.6967174  1.3057027\n",
      "0.0627782  1.6967175  1.3057110\n",
      "0.0627782  1.6967172  1.3057091\n",
      "0.0627781  1.6967166  1.3057046\n",
      "0.0627781  1.6967166  1.3057044\n",
      "Optimization terminated successfully.\n",
      "         Current function value: -56.441794\n",
      "         Iterations: 6\n",
      "         Function evaluations: 11\n",
      "         Gradient evaluations: 11\n"
     ]
    }
   ],
   "source": [
    "# initial parameters parameter to maximize the marginal log-likelihood as shown in eq (31)\n",
    "sigma_n = 0.0336    #3.0E-4\n",
    "sigma_f = 0.06      #6.0E-3\n",
    "ell = 1            #2\n",
    "\n",
    "theta_0 = np.array([sigma_n, sigma_f, ell])\n",
    "seq_theta = np.copy(theta_0)\n",
    "def print_results(theta):\n",
    "    global seq_theta\n",
    "    seq_theta = np.vstack((seq_theta, theta))\n",
    "    print('{0:.7f}  {1:.7f}  {2:.7f}'.format(theta[0], theta[1], theta[2]))\n",
    "    \n",
    "print('sigma_n,   sigma_f,   ell')\n",
    "\n",
    "# minimize the NMLL $L(\\theta)$ w.r.t sigma_n, sigma_f, ell using the BFGS method as implemented in scipy\n",
    "res = minimize(GP_DRT.NMLL_fct, theta_0, args=(Z_exp, xi_vec), method='Nelder-Mead', \\\n",
    "               callback=print_results, options={'disp': True})\n",
    "\n",
    "theta_0 = res.x\n",
    "res = minimize(GP_DRT.NMLL_fct, theta_0, args=(Z_exp, xi_vec), method='BFGS', \\\n",
    "               jac=GP_DRT.grad_NMLL_fct,  callback=print_results, options={'disp': True})\n",
    "\n",
    "# collect the optimized parameters\n",
    "sigma_n, sigma_f, ell = res.x"
   ]
  },
  {
   "cell_type": "markdown",
   "metadata": {},
   "source": [
    "## 4) Core of the GP-DRT"
   ]
  },
  {
   "cell_type": "markdown",
   "metadata": {},
   "source": [
    "### 4a) Compute matrices"
   ]
  },
  {
   "cell_type": "code",
   "execution_count": 6,
   "metadata": {},
   "outputs": [],
   "source": [
    "# calculate the matrices shown in eq (18)\n",
    "K = GP_DRT.matrix_K(xi_vec, xi_vec, sigma_f, ell)\n",
    "L_im_K = GP_DRT.matrix_L_im_K(xi_vec, xi_vec, sigma_f, ell)\n",
    "L2_im_K = GP_DRT.matrix_L2_im_K(xi_vec, xi_vec, sigma_f, ell)\n",
    "Sigma = (sigma_n**2)*np.eye(N_freqs)"
   ]
  },
  {
   "cell_type": "markdown",
   "metadata": {},
   "source": [
    "### 4b) Factorize the matrices and solve the linear equations"
   ]
  },
  {
   "cell_type": "code",
   "execution_count": 7,
   "metadata": {},
   "outputs": [],
   "source": [
    "# the matrix $\\mathcal L^2_{\\rm im} \\mathbf K + \\sigma_n^2 \\mathbf I$ whose inverse is needed\n",
    "K_im_full = L2_im_K + Sigma\n",
    "\n",
    "# check if the K_im_full is positive definite, otherwise, a nearest one would replace the K_im_full\n",
    "if not GP_DRT.is_PD(K_im_full):\n",
    "    K_im_full = GP_DRT.nearest_PD(K_im_full)\n",
    "\n",
    "# Cholesky factorization, L is a lower-triangular matrix\n",
    "L = np.linalg.cholesky(K_im_full)\n",
    "\n",
    "# solve for alpha\n",
    "alpha = np.linalg.solve(L, Z_exp.imag)\n",
    "alpha = np.linalg.solve(L.T, alpha)\n",
    "\n",
    "# estimate the gamma of eq (21a)\n",
    "gamma_fct_est = np.dot(L_im_K, alpha)\n",
    "\n",
    "# covariance matrix\n",
    "inv_L = np.linalg.inv(L)\n",
    "inv_K_im_full = np.dot(inv_L.T, inv_L)\n",
    "\n",
    "# estimate the sigma of gamma for eq (21b)\n",
    "cov_gamma_fct_est = K - np.dot(L_im_K, np.dot(inv_K_im_full, L_im_K.T))\n",
    "sigma_gamma_fct_est = np.sqrt(np.diag(cov_gamma_fct_est))"
   ]
  },
  {
   "cell_type": "markdown",
   "metadata": {},
   "source": [
    "### 4c) Predict the imaginary part of the GP-DRT and impedance"
   ]
  },
  {
   "cell_type": "code",
   "execution_count": 8,
   "metadata": {},
   "outputs": [],
   "source": [
    "# initialize the imaginary part of impedance vector\n",
    "Z_im_vec_star = np.empty_like(xi_vec_star)\n",
    "Sigma_Z_im_vec_star = np.empty_like(xi_vec_star)\n",
    "\n",
    "gamma_vec_star = np.empty_like(xi_vec_star)\n",
    "Sigma_gamma_vec_star = np.empty_like(xi_vec_star)\n",
    "\n",
    "# calculate the imaginary part of impedance at each $\\xi$ point for the plot\n",
    "for index, val in enumerate(xi_vec_star):\n",
    "    xi_star = np.array([val])\n",
    "\n",
    "    # compute matrices shown in eq (18), xi_star corresponds to a new point\n",
    "    k_star = GP_DRT.matrix_K(xi_vec, xi_star, sigma_f, ell)\n",
    "    L_im_k_star_up = GP_DRT.matrix_L_im_K(xi_star, xi_vec, sigma_f, ell)\n",
    "    L2_im_k_star = GP_DRT.matrix_L2_im_K(xi_vec, xi_star, sigma_f, ell)\n",
    "    k_star_star = GP_DRT.matrix_K(xi_star, xi_star, sigma_f, ell)\n",
    "    L_im_k_star_star = GP_DRT.matrix_L_im_K(xi_star, xi_star, sigma_f, ell)\n",
    "    L2_im_k_star_star = GP_DRT.matrix_L2_im_K(xi_star, xi_star, sigma_f, ell)\n",
    "\n",
    "    # compute Z_im_star mean and standard deviation using eq (26)\n",
    "    Z_im_vec_star[index] = np.dot(L2_im_k_star.T, np.dot(inv_K_im_full, Z_exp.imag))\n",
    "    Sigma_Z_im_vec_star[index] = L2_im_k_star_star - np.dot(L2_im_k_star.T, np.dot(inv_K_im_full, L2_im_k_star))\n",
    "    \n",
    "    # compute gamma_star mean and standard deviation using eq (29)\n",
    "    gamma_vec_star[index] = np.dot(L_im_k_star_up, np.dot(inv_K_im_full, Z_exp.imag))\n",
    "    Sigma_gamma_vec_star[index] = k_star_star - np.dot(L_im_k_star_up, np.dot(inv_K_im_full, L_im_k_star_up.T))"
   ]
  },
  {
   "cell_type": "markdown",
   "metadata": {},
   "source": [
    "### 4d) Plot the obtained GP-DRT"
   ]
  },
  {
   "cell_type": "code",
   "execution_count": 9,
   "metadata": {},
   "outputs": [
    {
     "data": {
      "image/png": "[encoded data removed]",
      "text/plain": [
       "<Figure size 432x288 with 1 Axes>"
      ]
     },
     "metadata": {
      "needs_background": "light"
     },
     "output_type": "display_data"
    }
   ],
   "source": [
    "# plot the DRT and its confidence region\n",
    "plt.semilogx(freq_vec_star, gamma_vec_star, linewidth=4, color=\"red\", label=\"GP-DRT\")\n",
    "plt.fill_between(freq_vec_star, gamma_vec_star-3*np.sqrt(abs(Sigma_gamma_vec_star)), gamma_vec_star+3*np.sqrt(abs(Sigma_gamma_vec_star)), color=\"0.4\", alpha=0.3)\n",
    "plt.rc('text', usetex=True)\n",
    "plt.rc('font', family='serif', size=15)\n",
    "plt.rc('xtick', labelsize=15)\n",
    "plt.rc('ytick', labelsize=15)\n",
    "#plt.axis([1E-4,1E6,-0.01,0.025])\n",
    "#plt.yticks(np.arange(-0.01, 0.025, 0.01))\n",
    "plt.legend(frameon=False, fontsize = 15)\n",
    "plt.xlabel(r'$f/{\\rm Hz}$', fontsize = 20)\n",
    "plt.ylabel(r'$\\gamma/\\Omega$', fontsize = 20)\n",
    "plt.show()"
   ]
  },
  {
   "cell_type": "code",
   "execution_count": 10,
   "metadata": {},
   "outputs": [
    {
     "data": {
      "image/png": "[encoded data removed]",
      "text/plain": [
       "<Figure size 432x288 with 1 Axes>"
      ]
     },
     "metadata": {
      "needs_background": "light"
     },
     "output_type": "display_data"
    }
   ],
   "source": [
    "# plot the DRT and its confidence region\n",
    "plt.semilogx((1/freq_vec_star), gamma_vec_star, linewidth=4, color=\"red\", label=\"GP-DRT\")\n",
    "plt.fill_between((1/freq_vec_star), gamma_vec_star-3*np.sqrt(abs(Sigma_gamma_vec_star)), gamma_vec_star+3*np.sqrt(abs(Sigma_gamma_vec_star)), color=\"0.4\", alpha=0.3)\n",
    "plt.rc('text', usetex=True)\n",
    "plt.rc('font', family='serif', size=15)\n",
    "plt.rc('xtick', labelsize=15)\n",
    "plt.rc('ytick', labelsize=15)\n",
    "#plt.axis([1E-4,1E6,-0.01,0.025])\n",
    "#plt.yticks(np.arange(-0.01, 0.025, 0.01))\n",
    "plt.legend(frameon=False, fontsize = 15)\n",
    "plt.xlabel('t / s', fontsize = 20)\n",
    "plt.ylabel(r'$\\gamma/\\Omega$', fontsize = 20)\n",
    "plt.show()"
   ]
  },
  {
   "cell_type": "code",
   "execution_count": 11,
   "metadata": {},
   "outputs": [
    {
     "name": "stdout",
     "output_type": "stream",
     "text": [
      "30\n"
     ]
    },
    {
     "data": {
      "image/png": "[encoded data removed]",
      "text/plain": [
       "<Figure size 432x288 with 1 Axes>"
      ]
     },
     "metadata": {
      "needs_background": "light"
     },
     "output_type": "display_data"
    }
   ],
   "source": [
    "import numpy as np\n",
    "import matplotlib.pyplot as plt \n",
    "from scipy.signal import find_peaks, peak_widths\n",
    "\n",
    "x = gamma_vec_star\n",
    "peaks, _ = find_peaks(x, distance=20)\n",
    "peaks2, _ = find_peaks(x, prominence=0.5)      # BEST!\n",
    "results_full = peak_widths(x, peaks2, rel_height=0.5)\n",
    "\n",
    "#plt.subplot(2, 2, 1)\n",
    "#plt.plot(peaks, x[peaks], \"xr\"); plt.plot(x); plt.legend(['distance'])\n",
    "plt.subplot(2, 2, 2)\n",
    "plt.plot(peaks2, x[peaks2], \"ob\"); plt.plot(x); plt.legend(['prominence'])\n",
    "plt.hlines(*results_full[1:], color=\"C3\")\n",
    "print(peaks2[0])"
   ]
  },
  {
   "cell_type": "code",
   "execution_count": 35,
   "metadata": {},
   "outputs": [
    {
     "name": "stdout",
     "output_type": "stream",
     "text": [
      "\n"
     ]
    },
    {
     "data": {
      "image/png": "[encoded data removed]",
      "text/plain": [
       "<Figure size 432x288 with 1 Axes>"
      ]
     },
     "metadata": {
      "needs_background": "light"
     },
     "output_type": "display_data"
    }
   ],
   "source": [
    "from lmfit.models import LorentzianModel\n",
    "\n",
    "x = np.log((1/freq_vec_star))\n",
    "y = gamma_vec_star\n",
    "\n",
    "logpeak1 = x[peaks2[0]]\n",
    "logpeak2 = x[peaks2[1]]\n",
    "logpeak3 = x[peaks2[2]]\n",
    "logpeak4 = logpeak3-1\n",
    "\n",
    "def _nlorentzian(x, amps,cens,sigma):\n",
    "    fn = 0\n",
    "    if len(amps)== len(cens)== len(sigma):\n",
    "        for i in range(len(amps)):\n",
    "            fn = fn+(amps[i]*(1/(np.pi)))*(np.exp(sigma[i]/(((x-cens[i])**2)+(sigma[i])**2)))\n",
    "            fn = fn+np.random.normal(size=len(x), scale=0.05)\n",
    "    else:\n",
    "        print('Your inputs have unequal lengths')\n",
    "    return fn\n",
    "\n",
    "amps = [1.30, 0.92, 2.11, 1]\n",
    "cens = [logpeak1, logpeak2, logpeak3, logpeak4]\n",
    "sigma=[0.05, 0.09, 0.07, 0.1]\n",
    "\n",
    "popt_peaks = [amps,cens,sigma]\n",
    "y1 = _nlorentzian(x, *popt_peaks)\n",
    "\n",
    "# create a model with 4 Lorentzians: pretty easy to generalize\n",
    "# to a loop to make N peaks\n",
    "model = (LorentzianModel(prefix='p1_') +\n",
    "        LorentzianModel(prefix='p2_') +\n",
    "         LorentzianModel(prefix='p3_') +\n",
    "        LorentzianModel(prefix='p4_'))\n",
    "\n",
    "# create Parameters (named from function arguments). For\n",
    "# Gaussian, Lorentzian, Voigt, etc these are \"center\", \"amplitude\", \"sigma\"\n",
    "params = model.make_params(p1_center=logpeak1, p1_amplitude=8, p1_sigma=1,\n",
    "                           p2_center=logpeak2, p2_amplitude=8, p2_sigma=1,\n",
    "                           p3_center=logpeak3, p3_amplitude=8, p3_sigma=1,\n",
    "                           p4_center=logpeak4, p4_amplitude=8, p4_sigma=1)\n",
    "\n",
    "# Parameters can have min/max bounds, be fixed (`.vary = False`)\n",
    "# or constrained to a mathematical expression of other Parameter values\n",
    "#params['p1_center'].vary = False\n",
    "#params['p1_amplitude'].vary = False\n",
    "#params['p1_sigma'].vary = False\n",
    "\n",
    "#params['p2_center'].vary = False\n",
    "#params['p2_amplitude'].vary = False\n",
    "#params['p2_sigma'].vary = False\n",
    "\n",
    "#params['p3_center'].vary = False\n",
    "#params['p3_amplitude'].vary = False\n",
    "#params['p3_sigma'].vary = False\n",
    "\n",
    "# run the fit\n",
    "result = model.fit(y, params, x=x)\n",
    "\n",
    "# print out the fit results\n",
    "#print(result.fit_report())\n",
    "\n",
    "components = result.eval_components(x=x)\n",
    "print()\n",
    "\n",
    "# plot results\n",
    "plt.plot(x, y,     'o', label='data')\n",
    "plt.plot(x, result.best_fit, '-', label='fit')\n",
    "#plt.plot(x, components['p1_'], '--')\n",
    "#plt.plot(x, components['p2_'], '--')\n",
    "#plt.plot(x, components['p3_'], '--')\n",
    "#plt.plot(x, components['p4_'], '--')\n",
    "\n",
    "plt.legend()\n",
    "#plt.xscale('log')\n",
    "plt.show()\n"
   ]
  },
  {
   "cell_type": "markdown",
   "metadata": {},
   "source": [
    "### 4e) Plot the imaginary part of the GP-DRT impedance together with the experimental one"
   ]
  },
  {
   "cell_type": "code",
   "execution_count": null,
   "metadata": {},
   "outputs": [],
   "source": [
    "plt.semilogx(freq_vec, -Z_exp.imag, \"o\", markersize=10, color=\"black\", label=\"synth exp\")\n",
    "plt.semilogx(freq_vec_star, -Z_im_vec_star, linewidth=4, color=\"red\", label=\"GP-DRT\")\n",
    "plt.fill_between(freq_vec_star, -Z_im_vec_star-3*np.sqrt(abs(Sigma_Z_im_vec_star)), -Z_im_vec_star+\\\n",
    "                 3*np.sqrt(abs(Sigma_Z_im_vec_star)), alpha=0.3)\n",
    "plt.rc('text', usetex=True)\n",
    "plt.rc('font', family='serif', size=15)\n",
    "plt.rc('xtick', labelsize=15)\n",
    "plt.rc('ytick', labelsize=15)\n",
    "#plt.axis([1E-3,1E5,-0.01,0.03])\n",
    "plt.legend(frameon=False, fontsize = 15)\n",
    "plt.xlabel(r'$f/{\\rm Hz}$', fontsize = 20)\n",
    "plt.ylabel(r'$-Z_{\\rm im}/\\Omega$', fontsize = 20)\n",
    "plt.show()"
   ]
  },
  {
   "cell_type": "code",
   "execution_count": null,
   "metadata": {},
   "outputs": [],
   "source": []
  }
 ],
 "metadata": {
  "kernelspec": {
   "display_name": "Python 3 (ipykernel)",
   "language": "python",
   "name": "python3"
  },
  "language_info": {
   "codemirror_mode": {
    "name": "ipython",
    "version": 3
   },
   "file_extension": ".py",
   "mimetype": "text/x-python",
   "name": "python",
   "nbconvert_exporter": "python",
   "pygments_lexer": "ipython3",
   "version": "3.9.7"
  }
 },
 "nbformat": 4,
 "nbformat_minor": 2
}
