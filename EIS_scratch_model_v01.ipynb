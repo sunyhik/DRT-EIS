{
 "cells": [
  {
   "cell_type": "code",
   "execution_count": 1,
   "id": "bb31fbd8",
   "metadata": {},
   "outputs": [],
   "source": [
    "import numpy as np\n",
    "import sympy as sp\n",
    "import matplotlib.pyplot as plt"
   ]
  },
  {
   "cell_type": "code",
   "execution_count": 2,
   "id": "90ba4b3e",
   "metadata": {},
   "outputs": [],
   "source": [
    "Zhigh = 5\n",
    "\n",
    "Rct = 20\n",
    "Qct = 0.04\n",
    "\n",
    "Rsei = 5\n",
    "Qsei = 0.006\n",
    "\n",
    "f = np.logspace(-2, 4, num=50)\n",
    "alpha = 0.95\n",
    "\n",
    "#print(f)"
   ]
  },
  {
   "cell_type": "code",
   "execution_count": 3,
   "id": "de334acb",
   "metadata": {},
   "outputs": [],
   "source": [
    "\n",
    "# Use this for your imaginary symbol\n",
    "#j = sp.Symbol('j')\n",
    "\n",
    "i=0\n",
    "imax = len(f)\n",
    "\n",
    "wx = []\n",
    "Re = []\n",
    "Imag = []\n",
    "\n",
    "#\n",
    "\n",
    "for i in range (i, imax, 1): \n",
    "    w1=f[i]*2*np.pi\n",
    "    Z1 = Rct / (1 + Rct*Qct*((complex(0, w1))**alpha))\n",
    "    Z2 = Rsei / (1 + Rsei*Qsei*((complex(0, w1))**alpha))\n",
    "\n",
    "    Z = Zhigh + Z1 + Z2\n",
    "    wx.append(w1)\n",
    "    Re.append(np.real(Z))\n",
    "    Imag.append(np.imag(Z)*-1)\n",
    "    \n",
    "#print (Re)\n",
    "#print (Imag)\n",
    "\n"
   ]
  },
  {
   "cell_type": "code",
   "execution_count": 4,
   "id": "d3718b54",
   "metadata": {},
   "outputs": [
    {
     "data": {
      "text/plain": [
       "[<matplotlib.lines.Line2D at 0x25e39fac730>]"
      ]
     },
     "execution_count": 4,
     "metadata": {},
     "output_type": "execute_result"
    },
    {
     "data": {
      "image/png": "[encoded data removed]",
      "text/plain": [
       "<Figure size 432x288 with 1 Axes>"
      ]
     },
     "metadata": {
      "needs_background": "light"
     },
     "output_type": "display_data"
    }
   ],
   "source": [
    "plt.plot(Re, Imag, 'bo')\n"
   ]
  },
  {
   "cell_type": "code",
   "execution_count": null,
   "id": "099889cb",
   "metadata": {},
   "outputs": [],
   "source": []
  }
 ],
 "metadata": {
  "kernelspec": {
   "display_name": "Python 3 (ipykernel)",
   "language": "python",
   "name": "python3"
  },
  "language_info": {
   "codemirror_mode": {
    "name": "ipython",
    "version": 3
   },
   "file_extension": ".py",
   "mimetype": "text/x-python",
   "name": "python",
   "nbconvert_exporter": "python",
   "pygments_lexer": "ipython3",
   "version": "3.9.7"
  }
 },
 "nbformat": 4,
 "nbformat_minor": 5
}
